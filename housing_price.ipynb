{
 "cells": [
  {
   "cell_type": "code",
   "execution_count": 309,
   "metadata": {
    "collapsed": true
   },
   "outputs": [
    {
     "data": {
      "text/html": "<h1>Topic1 Assignment - Part2</h1>",
      "text/plain": "Topic1 Assignment"
     },
     "metadata": {},
     "output_type": "display_data"
    },
    {
     "data": {
      "text/html": "<h1>Anoop Korappath</h1>",
      "text/plain": "Anoop Korappath"
     },
     "metadata": {},
     "output_type": "display_data"
    },
    {
     "data": {
      "text/html": "<h1>10/31/2021</h1>",
      "text/plain": "10/31/2021"
     },
     "metadata": {},
     "output_type": "display_data"
    }
   ],
   "source": [
    "from IPython.display import display\n",
    "display({'text/html': '<h1>Topic1 Assignment - Part2</h1>', 'text/plain': 'Topic1 Assignment'}, raw=True)\n",
    "display({'text/html': '<h1>Anoop Korappath</h1>', 'text/plain': 'Anoop Korappath'}, raw=True)\n",
    "display({'text/html': '<h1>10/31/2021</h1>', 'text/plain': '10/31/2021'}, raw=True)"
   ]
  },
  {
   "cell_type": "markdown",
   "source": [
    "## Read Dataset"
   ],
   "metadata": {
    "collapsed": false,
    "pycharm": {
     "name": "#%% md\n"
    }
   }
  },
  {
   "cell_type": "code",
   "execution_count": 310,
   "outputs": [],
   "source": [
    "import warnings\n",
    "warnings.filterwarnings('ignore')\n",
    "import numpy as np\n",
    "import pandas as pd\n",
    "import matplotlib.pyplot as plt\n",
    "import seaborn as sns"
   ],
   "metadata": {
    "collapsed": false,
    "pycharm": {
     "name": "#%%\n"
    }
   }
  },
  {
   "cell_type": "code",
   "execution_count": 311,
   "outputs": [
    {
     "data": {
      "text/plain": "      price  area  bedrooms  bathrooms  stories mainroad guestroom basement  \\\n0  13300000  7420         4          2        3      yes        no       no   \n1  12250000  8960         4          4        4      yes        no       no   \n2  12250000  9960         3          2        2      yes        no      yes   \n3  12215000  7500         4          2        2      yes        no      yes   \n4  11410000  7420         4          1        2      yes       yes      yes   \n\n  hotwaterheating airconditioning  parking prefarea furnishingstatus  \n0              no             yes        2      yes        furnished  \n1              no             yes        3       no        furnished  \n2              no              no        2      yes   semi-furnished  \n3              no             yes        3      yes        furnished  \n4              no             yes        2       no        furnished  ",
      "text/html": "<div>\n<style scoped>\n    .dataframe tbody tr th:only-of-type {\n        vertical-align: middle;\n    }\n\n    .dataframe tbody tr th {\n        vertical-align: top;\n    }\n\n    .dataframe thead th {\n        text-align: right;\n    }\n</style>\n<table border=\"1\" class=\"dataframe\">\n  <thead>\n    <tr style=\"text-align: right;\">\n      <th></th>\n      <th>price</th>\n      <th>area</th>\n      <th>bedrooms</th>\n      <th>bathrooms</th>\n      <th>stories</th>\n      <th>mainroad</th>\n      <th>guestroom</th>\n      <th>basement</th>\n      <th>hotwaterheating</th>\n      <th>airconditioning</th>\n      <th>parking</th>\n      <th>prefarea</th>\n      <th>furnishingstatus</th>\n    </tr>\n  </thead>\n  <tbody>\n    <tr>\n      <th>0</th>\n      <td>13300000</td>\n      <td>7420</td>\n      <td>4</td>\n      <td>2</td>\n      <td>3</td>\n      <td>yes</td>\n      <td>no</td>\n      <td>no</td>\n      <td>no</td>\n      <td>yes</td>\n      <td>2</td>\n      <td>yes</td>\n      <td>furnished</td>\n    </tr>\n    <tr>\n      <th>1</th>\n      <td>12250000</td>\n      <td>8960</td>\n      <td>4</td>\n      <td>4</td>\n      <td>4</td>\n      <td>yes</td>\n      <td>no</td>\n      <td>no</td>\n      <td>no</td>\n      <td>yes</td>\n      <td>3</td>\n      <td>no</td>\n      <td>furnished</td>\n    </tr>\n    <tr>\n      <th>2</th>\n      <td>12250000</td>\n      <td>9960</td>\n      <td>3</td>\n      <td>2</td>\n      <td>2</td>\n      <td>yes</td>\n      <td>no</td>\n      <td>yes</td>\n      <td>no</td>\n      <td>no</td>\n      <td>2</td>\n      <td>yes</td>\n      <td>semi-furnished</td>\n    </tr>\n    <tr>\n      <th>3</th>\n      <td>12215000</td>\n      <td>7500</td>\n      <td>4</td>\n      <td>2</td>\n      <td>2</td>\n      <td>yes</td>\n      <td>no</td>\n      <td>yes</td>\n      <td>no</td>\n      <td>yes</td>\n      <td>3</td>\n      <td>yes</td>\n      <td>furnished</td>\n    </tr>\n    <tr>\n      <th>4</th>\n      <td>11410000</td>\n      <td>7420</td>\n      <td>4</td>\n      <td>1</td>\n      <td>2</td>\n      <td>yes</td>\n      <td>yes</td>\n      <td>yes</td>\n      <td>no</td>\n      <td>yes</td>\n      <td>2</td>\n      <td>no</td>\n      <td>furnished</td>\n    </tr>\n  </tbody>\n</table>\n</div>"
     },
     "execution_count": 311,
     "metadata": {},
     "output_type": "execute_result"
    }
   ],
   "source": [
    "df_main = pd.DataFrame(pd.read_csv(\"Housing.csv\"))\n",
    "df_main.head()"
   ],
   "metadata": {
    "collapsed": false,
    "pycharm": {
     "name": "#%%\n"
    }
   }
  },
  {
   "cell_type": "markdown",
   "source": [
    "## Data Cleaning"
   ],
   "metadata": {
    "collapsed": false,
    "pycharm": {
     "name": "#%% md\n"
    }
   }
  },
  {
   "cell_type": "code",
   "execution_count": 312,
   "outputs": [
    {
     "name": "stdout",
     "output_type": "stream",
     "text": [
      "price        0.0\n",
      "area         0.0\n",
      "bedrooms     0.0\n",
      "bathrooms    0.0\n",
      "dtype: float64\n"
     ]
    },
    {
     "data": {
      "text/plain": "<Figure size 720x360 with 6 Axes>",
      "image/png": "[encoded data removed]"
     },
     "metadata": {
      "needs_background": "light"
     },
     "output_type": "display_data"
    }
   ],
   "source": [
    "# Remove all columns except the price,area,bedrooms and bathrooms.\n",
    "\n",
    "df_main = df_main[['price','area','bedrooms','bathrooms']]\n",
    "# Check for null values\n",
    "print(df_main.isnull().sum()*100/df_main.shape[0])\n",
    "\n",
    "#Check outliers.\n",
    "fig, axs = plt.subplots(2,3, figsize = (10,5))\n",
    "plt1 = sns.boxplot(df_main['price'], ax = axs[0,0])\n",
    "plt2 = sns.boxplot(df_main['area'], ax = axs[0,1])\n",
    "plt3 = sns.boxplot(df_main['bedrooms'], ax = axs[0,2])\n",
    "plt1 = sns.boxplot(df_main['bathrooms'], ax = axs[1,0])\n",
    "plt.tight_layout()\n",
    "\n",
    "#Drop the price and area rows that are outliers\n",
    "plt.boxplot(df_main.price)\n",
    "Q1 = df_main.price.quantile(0.25)\n",
    "Q3 = df_main.price.quantile(0.75)\n",
    "IQR = Q3 - Q1\n",
    "df_main = df_main[(df_main.price >= Q1 - 1.5*IQR) & (df_main.price <= Q3 + 1.5*IQR)]\n",
    "\n",
    "plt.boxplot(df_main.area)\n",
    "Q1 = df_main.area.quantile(0.25)\n",
    "Q3 = df_main.area.quantile(0.75)\n",
    "IQR = Q3 - Q1\n",
    "df_main = df_main[(df_main.area >= Q1 - 1.5*IQR) & (df_main.area <= Q3 + 1.5*IQR)]"
   ],
   "metadata": {
    "collapsed": false,
    "pycharm": {
     "name": "#%%\n"
    }
   }
  },
  {
   "cell_type": "code",
   "execution_count": 313,
   "outputs": [
    {
     "name": "stdout",
     "output_type": "stream",
     "text": [
      "+----+-----------+--------+------------+-------------+\n",
      "|    |     price |   area |   bedrooms |   bathrooms |\n",
      "|----+-----------+--------+------------+-------------|\n",
      "| 15 | 9.1e+06   |   6000 |          4 |           1 |\n",
      "| 16 | 9.1e+06   |   6600 |          4 |           2 |\n",
      "| 17 | 8.96e+06  |   8500 |          3 |           2 |\n",
      "| 18 | 8.89e+06  |   4600 |          3 |           2 |\n",
      "| 19 | 8.855e+06 |   6420 |          3 |           2 |\n",
      "+----+-----------+--------+------------+-------------+\n"
     ]
    }
   ],
   "source": [
    "from tabulate import tabulate\n",
    "\n",
    "print(tabulate(df_main.head(), headers='keys', tablefmt='psql'))"
   ],
   "metadata": {
    "collapsed": false,
    "pycharm": {
     "name": "#%%\n"
    }
   }
  },
  {
   "cell_type": "markdown",
   "source": [
    "## Train Test split and Scaling"
   ],
   "metadata": {
    "collapsed": false,
    "pycharm": {
     "name": "#%% md\n"
    }
   }
  },
  {
   "cell_type": "code",
   "execution_count": 314,
   "outputs": [],
   "source": [
    "from sklearn.model_selection import train_test_split\n",
    "from sklearn.preprocessing import MinMaxScaler\n",
    "\n",
    "np.random.seed(0)\n",
    "df_train, df_test = train_test_split(df_main, train_size = 0.75, test_size = 0.25, random_state = 100)\n",
    "scaler = MinMaxScaler()\n",
    "df_train[['area', 'bedrooms', 'bathrooms','price']] = scaler.fit_transform(df_train[['area', 'bedrooms', 'bathrooms', 'price']])"
   ],
   "metadata": {
    "collapsed": false,
    "pycharm": {
     "name": "#%%\n"
    }
   }
  },
  {
   "cell_type": "markdown",
   "source": [
    "## Correlation plot"
   ],
   "metadata": {
    "collapsed": false,
    "pycharm": {
     "name": "#%% md\n"
    }
   }
  },
  {
   "cell_type": "code",
   "execution_count": 315,
   "outputs": [
    {
     "data": {
      "text/plain": "<Figure size 1152x720 with 2 Axes>",
      "image/png": "[encoded data removed]"
     },
     "metadata": {
      "needs_background": "light"
     },
     "output_type": "display_data"
    }
   ],
   "source": [
    "plt.figure(figsize = (16, 10))\n",
    "sns.heatmap(df_train.corr(), cmap=\"Blues\", annot=True)\n",
    "plt.show()\n",
    "\n",
    "# We can see that the price and area is highly correlated"
   ],
   "metadata": {
    "collapsed": false,
    "pycharm": {
     "name": "#%%\n"
    }
   }
  },
  {
   "cell_type": "markdown",
   "source": [
    "## Model Building"
   ],
   "metadata": {
    "collapsed": false,
    "pycharm": {
     "name": "#%% md\n"
    }
   }
  },
  {
   "cell_type": "code",
   "execution_count": 316,
   "outputs": [
    {
     "name": "stdout",
     "output_type": "stream",
     "text": [
      "                            OLS Regression Results                            \n",
      "==============================================================================\n",
      "Dep. Variable:                  price   R-squared:                       0.452\n",
      "Model:                            OLS   Adj. R-squared:                  0.447\n",
      "Method:                 Least Squares   F-statistic:                     105.2\n",
      "Date:                Wed, 03 Nov 2021   Prob (F-statistic):           1.11e-49\n",
      "Time:                        10:41:02   Log-Likelihood:                 166.23\n",
      "No. Observations:                 387   AIC:                            -324.5\n",
      "Df Residuals:                     383   BIC:                            -308.6\n",
      "Df Model:                           3                                         \n",
      "Covariance Type:            nonrobust                                         \n",
      "==============================================================================\n",
      "                 coef    std err          t      P>|t|      [0.025      0.975]\n",
      "------------------------------------------------------------------------------\n",
      "const          0.0804      0.025      3.196      0.002       0.031       0.130\n",
      "area           0.4999      0.040     12.487      0.000       0.421       0.579\n",
      "bedrooms       0.2350      0.057      4.118      0.000       0.123       0.347\n",
      "bathrooms      0.2744      0.038      7.281      0.000       0.200       0.349\n",
      "==============================================================================\n",
      "Omnibus:                       15.463   Durbin-Watson:                   2.191\n",
      "Prob(Omnibus):                  0.000   Jarque-Bera (JB):               19.793\n",
      "Skew:                           0.360   Prob(JB):                     5.04e-05\n",
      "Kurtosis:                       3.842   Cond. No.                         8.79\n",
      "==============================================================================\n",
      "\n",
      "Notes:\n",
      "[1] Standard Errors assume that the covariance matrix of the errors is correctly specified.\n"
     ]
    }
   ],
   "source": [
    "import statsmodels.api as sm\n",
    "\n",
    "y_train = df_train.pop('price')\n",
    "X_train = df_train\n",
    "#Add a constant\n",
    "X_train = sm.add_constant(X_train)\n",
    "\n",
    "lm = sm.OLS(y_train,X_train).fit()\n",
    "print(lm.summary())\n",
    "\n",
    "# We can see from the p-values that are the variables are significant for prediction. So we cannot remove any of the variables."
   ],
   "metadata": {
    "collapsed": false,
    "pycharm": {
     "name": "#%%\n"
    }
   }
  },
  {
   "cell_type": "markdown",
   "source": [
    "## Error Plots"
   ],
   "metadata": {
    "collapsed": false,
    "pycharm": {
     "name": "#%% md\n"
    }
   }
  },
  {
   "cell_type": "code",
   "execution_count": 317,
   "outputs": [
    {
     "data": {
      "text/plain": "Text(0.5, 0, 'Errors')"
     },
     "execution_count": 317,
     "metadata": {},
     "output_type": "execute_result"
    },
    {
     "data": {
      "text/plain": "<Figure size 432x288 with 1 Axes>",
      "image/png": "[encoded data removed]"
     },
     "metadata": {
      "needs_background": "light"
     },
     "output_type": "display_data"
    }
   ],
   "source": [
    "import matplotlib.pyplot as plt\n",
    "import seaborn as sns\n",
    "%matplotlib inline\n",
    "\n",
    "y_train_price = lm.predict(X_train)\n",
    "res = (y_train_price - y_train)\n",
    "\n",
    "# Plot the histogram of the error terms\n",
    "fig = plt.figure()\n",
    "sns.distplot((y_train - y_train_price), bins = 20)\n",
    "fig.suptitle('Error Terms', fontsize = 20)\n",
    "plt.xlabel('Errors', fontsize = 18)"
   ],
   "metadata": {
    "collapsed": false,
    "pycharm": {
     "name": "#%%\n"
    }
   }
  },
  {
   "cell_type": "code",
   "execution_count": 318,
   "outputs": [
    {
     "data": {
      "text/plain": "<Figure size 432x288 with 1 Axes>",
      "image/png": "[encoded data removed]"
     },
     "metadata": {
      "needs_background": "light"
     },
     "output_type": "display_data"
    }
   ],
   "source": [
    "plt.scatter(y_train,res)\n",
    "plt.show()"
   ],
   "metadata": {
    "collapsed": false,
    "pycharm": {
     "name": "#%%\n"
    }
   }
  },
  {
   "cell_type": "markdown",
   "source": [
    "## Model Evaluation"
   ],
   "metadata": {
    "collapsed": false,
    "pycharm": {
     "name": "#%% md\n"
    }
   }
  },
  {
   "cell_type": "code",
   "execution_count": 319,
   "outputs": [
    {
     "name": "stdout",
     "output_type": "stream",
     "text": [
      "Coefficient of determination : 0.4493044892819218\n",
      "MSE:  0.02931323318434229\n",
      "RMSE:  0.17121107786689005\n"
     ]
    }
   ],
   "source": [
    "from sklearn.metrics import mean_squared_error,r2_score,explained_variance_score\n",
    "\n",
    "df_test[['area','bedrooms', 'bathrooms','price']] = scaler.fit_transform(df_test[['area','bedrooms', 'bathrooms', 'price']])\n",
    "y_test = df_test.pop('price')\n",
    "X_test = df_test\n",
    "X_test = sm.add_constant(X_test)\n",
    "y_pred = lm.predict(X_test)\n",
    "print (\"Coefficient of determination :\",r2_score(y_test,y_pred))\n",
    "print (\"MSE: \",mean_squared_error(y_test,y_pred))\n",
    "print(\"RMSE: \",np.sqrt(mean_squared_error(y_test,y_pred)))\n"
   ],
   "metadata": {
    "collapsed": false,
    "pycharm": {
     "name": "#%%\n"
    }
   }
  },
  {
   "cell_type": "code",
   "execution_count": 320,
   "outputs": [
    {
     "data": {
      "text/plain": "Text(0, 0.5, 'y_pred')"
     },
     "execution_count": 320,
     "metadata": {},
     "output_type": "execute_result"
    },
    {
     "data": {
      "text/plain": "<Figure size 432x288 with 1 Axes>",
      "image/png": "[encoded data removed]"
     },
     "metadata": {
      "needs_background": "light"
     },
     "output_type": "display_data"
    }
   ],
   "source": [
    "fig = plt.figure()\n",
    "plt.scatter(y_test,y_pred)\n",
    "fig.suptitle('y_test vs y_pred', fontsize=20)\n",
    "plt.xlabel('y_test', fontsize=18)\n",
    "plt.ylabel('y_pred', fontsize=16)\n"
   ],
   "metadata": {
    "collapsed": false,
    "pycharm": {
     "name": "#%%\n"
    }
   }
  },
  {
   "cell_type": "markdown",
   "source": [
    "## Finding accuracy mathematically"
   ],
   "metadata": {
    "collapsed": false
   }
  },
  {
   "cell_type": "code",
   "execution_count": 321,
   "outputs": [
    {
     "name": "stdout",
     "output_type": "stream",
     "text": [
      "R2 is  0.4493044892819218\n",
      "\n",
      "\n",
      "Adjusted Rsquared is  0.4361926914076819\n"
     ]
    }
   ],
   "source": [
    "import numpy as np\n",
    "y_test = pd.to_numeric(y_test, errors='coerce')\n",
    "RSS = np.sum((y_pred - y_test)**2)\n",
    "y_mean = np.mean(y_test)\n",
    "TSS = np.sum((y_test - y_mean)**2)\n",
    "R2 = 1 - RSS/TSS\n",
    "print(\"R2 is \", R2)\n",
    "print(\"\\n\")\n",
    "n=X_test.shape[0]\n",
    "p=X_test.shape[1] - 1\n",
    "\n",
    "adj_rsquared = 1 - (1 - R2) * ((n - 1)/(n-p-1))\n",
    "print(\"Adjusted Rsquared is \", adj_rsquared)"
   ],
   "metadata": {
    "collapsed": false,
    "pycharm": {
     "name": "#%%\n"
    }
   }
  },
  {
   "cell_type": "markdown",
   "source": [
    "## Equation for the best fitted line\n",
    "\n",
    "### The equation for the best fitted line can be given as\n",
    "\n",
    "####   price =  0.49 * area + 0.23 * bedrooms + 0.27 * bathrooms\n"
   ],
   "metadata": {
    "collapsed": false,
    "pycharm": {
     "name": "#%% md\n"
    }
   }
  }
 ],
 "metadata": {
  "kernelspec": {
   "display_name": "Python 3",
   "language": "python",
   "name": "python3"
  },
  "language_info": {
   "codemirror_mode": {
    "name": "ipython",
    "version": 2
   },
   "file_extension": ".py",
   "mimetype": "text/x-python",
   "name": "python",
   "nbconvert_exporter": "python",
   "pygments_lexer": "ipython2",
   "version": "2.7.6"
  }
 },
 "nbformat": 4,
 "nbformat_minor": 0
}